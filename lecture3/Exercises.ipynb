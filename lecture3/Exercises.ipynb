{
 "cells": [
  {
   "cell_type": "markdown",
   "metadata": {},
   "source": [
    "# Exercises"
   ]
  },
  {
   "cell_type": "markdown",
   "metadata": {},
   "source": [
    "## Supervised learning\n",
    "\n",
    "- load mnist dataset\n",
    "- try Random Forest and Gradient Boosted Trees to classify mnist data set\n",
    "- perform crossvalidation and grid search over the parameters of RF and GBT\n",
    "- choose neural network library and fit mnist dataset\n",
    "- build and train network similar to LeNet, NeoCognitron or some other specially design for digit recognition (advanced)"
   ]
  },
  {
   "cell_type": "markdown",
   "metadata": {},
   "source": [
    "## Unsupervised learning\n",
    "\n",
    "- try several clustering algorithms on mnist dataset (how to estimate quality of the clustering considering we know labels)\n",
    "- perform PCA + any classifier algorithm\n",
    "- perform PCA + Decision Tree, compare results to Decision Tree alone for different maximal tree heights. \n",
    "- perform Isomap (or other manifold learning) on mnist data set, plot the result mapping (advanced)"
   ]
  },
  {
   "cell_type": "markdown",
   "metadata": {},
   "source": [
    "## For the next lecture"
   ]
  },
  {
   "cell_type": "markdown",
   "metadata": {},
   "source": [
    "- Go to http://www.scala-lang.org/ and install scala. Make sure scala shell (`scala` command) works fine.\n",
    "- Get familiar with scala programming language (advanced)"
   ]
  }
 ],
 "metadata": {
  "kernelspec": {
   "display_name": "Python 2",
   "language": "python",
   "name": "python2"
  },
  "language_info": {
   "codemirror_mode": {
    "name": "ipython",
    "version": 2
   },
   "file_extension": ".py",
   "mimetype": "text/x-python",
   "name": "python",
   "nbconvert_exporter": "python",
   "pygments_lexer": "ipython2",
   "version": "2.7.10"
  }
 },
 "nbformat": 4,
 "nbformat_minor": 0
}
