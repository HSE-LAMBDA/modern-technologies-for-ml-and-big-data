{
 "cells": [
  {
   "cell_type": "code",
   "execution_count": 6,
   "metadata": {
    "collapsed": false
   },
   "outputs": [],
   "source": [
    "println(sc.version)"
   ]
  },
  {
   "cell_type": "code",
   "execution_count": 7,
   "metadata": {
    "collapsed": true
   },
   "outputs": [],
   "source": [
    "val wreg = \"\"\"\\w+\"\"\".r"
   ]
  },
  {
   "cell_type": "code",
   "execution_count": 8,
   "metadata": {
    "collapsed": false
   },
   "outputs": [],
   "source": [
    "val sentences = sc.textFile(\"file:///home/jovyan/work/data/corpus/*/*.txt\", minPartitions=128).map {\n",
    "  case line =>\n",
    "    wreg.findAllIn(line).filter { _.forall { _.isLetter } }.map { word => word.toLowerCase }.toVector\n",
    "}.filter{ _.size > 10 }.persist()"
   ]
  },
  {
   "cell_type": "code",
   "execution_count": 16,
   "metadata": {
    "collapsed": false
   },
   "outputs": [
    {
     "name": "stdout",
     "output_type": "stream",
     "text": [
      "4036418\n",
      "Vector(please, take, a, look, at, the, important, information, in, this, header)\n",
      "Vector(we, encourage, you, to, keep, this, file, on, your, own, disk, keeping, an)\n",
      "Vector(electronic, path, open, for, the, next, readers, do, not, remove, this)\n",
      "Vector(this, etext, was, done, by, a, number, of, anonymous, volunteers, of, the)\n",
      "Vector(gutenberg, projec, to, whom, we, owe, a, great, deal, of, thanks, and, to)\n",
      "Vector(if, our, etexts, manage, to, make, it, to, an, average, about, million)\n",
      "Vector(then, we, will, have, given, about, billion, etexts, away, when, the)\n",
      "Vector(we, are, now, trying, to, release, all, our, books, one, month, in, advance)\n",
      "Vector(the, official, release, date, of, all, project, gutenberg, etexts, is, at)\n",
      "Vector(midnight, central, time, of, the, last, day, of, the, stated, month, a)\n",
      "Vector(and, editing, by, those, who, wish, to, do, so, to, be, sure, you, have, an)\n",
      "Vector(in, the, first, week, of, the, next, month, since, our, ftp, program, has)\n",
      "Vector(a, bug, in, it, that, scrambles, the, date, tried, to, fix, and, failed, a)\n",
      "Vector(look, at, the, file, size, will, have, to, do, but, we, will, try, to, see, a)\n",
      "Vector(we, produce, about, two, million, dollars, for, each, hour, we, work, the)\n",
      "Vector(fifty, hours, is, one, conservative, estimate, for, how, long, it, we, take)\n",
      "Vector(per, text, is, nominally, estimated, at, one, dollar, then, we, produce)\n",
      "Vector(million, dollars, per, hour, this, year, we, will, have, to, do, four, text)\n",
      "Vector(the, goal, of, project, gutenberg, is, to, give, away, one, trillion, etext)\n",
      "Vector(this, is, ten, thousand, titles, each, to, one, hundred, million, readers)\n"
     ]
    }
   ],
   "source": [
    "println(sentences.count())\n",
    "println(sentences.take(20).mkString(\"\\n\") )"
   ]
  },
  {
   "cell_type": "code",
   "execution_count": 10,
   "metadata": {
    "collapsed": false
   },
   "outputs": [],
   "source": [
    "val Array(train, test) = sentences.randomSplit(Array(0.25, 0.75), seed=333L)"
   ]
  },
  {
   "cell_type": "code",
   "execution_count": 11,
   "metadata": {
    "collapsed": false
   },
   "outputs": [
    {
     "data": {
      "text/plain": [
       "MapPartitionsRDD[6] at randomSplit at <console>:18"
      ]
     },
     "execution_count": 11,
     "metadata": {},
     "output_type": "execute_result"
    }
   ],
   "source": [
    "train.persist()\n",
    "test.persist()"
   ]
  },
  {
   "cell_type": "code",
   "execution_count": 12,
   "metadata": {
    "collapsed": true
   },
   "outputs": [],
   "source": [
    "import org.apache.spark.mllib._\n",
    "import org.apache.spark.mllib.feature._"
   ]
  },
  {
   "cell_type": "code",
   "execution_count": 13,
   "metadata": {
    "collapsed": false
   },
   "outputs": [],
   "source": [
    "val model = new Word2Vec().\n",
    "    setLearningRate(0.1).\n",
    "    setMinCount(10).\n",
    "    setNumPartitions(16).\n",
    "    setVectorSize(100).\n",
    "    fit(sentences)"
   ]
  },
  {
   "cell_type": "code",
   "execution_count": 20,
   "metadata": {
    "collapsed": false
   },
   "outputs": [],
   "source": [
    "val mother = model.transform(\"king\").toArray\n",
    "val woman = model.transform(\"man\").toArray\n",
    "val man = model.transform(\"woman\").toArray"
   ]
  },
  {
   "cell_type": "code",
   "execution_count": 34,
   "metadata": {
    "collapsed": false
   },
   "outputs": [],
   "source": [
    "val queenLike = mother.zip(woman).\n",
    "    map{ case (a: Double, b: Double) => a - b }.zip(man).\n",
    "    map { case (a, b) => a  + b}"
   ]
  },
  {
   "cell_type": "code",
   "execution_count": 39,
   "metadata": {
    "collapsed": false
   },
   "outputs": [],
   "source": [
    "val queen = model.transform(\"queen\").toArray"
   ]
  },
  {
   "cell_type": "code",
   "execution_count": 40,
   "metadata": {
    "collapsed": true
   },
   "outputs": [],
   "source": [
    "def norm(vec: Array[Double]): Double = {\n",
    "    math.sqrt(vec.map { x => x * x }.sum)\n",
    "}"
   ]
  },
  {
   "cell_type": "code",
   "execution_count": 41,
   "metadata": {
    "collapsed": false
   },
   "outputs": [
    {
     "data": {
      "text/plain": [
       "0.3718098920732813"
      ]
     },
     "execution_count": 41,
     "metadata": {},
     "output_type": "execute_result"
    }
   ],
   "source": [
    "queen.zip(queenLike).map { case (a, b) => a * b }.sum / norm(queen) / norm(queenLike)"
   ]
  }
 ],
 "metadata": {
  "kernelspec": {
   "display_name": "Scala 2.10.4",
   "language": "scala",
   "name": "scala"
  },
  "language_info": {
   "name": "scala"
  }
 },
 "nbformat": 4,
 "nbformat_minor": 0
}
