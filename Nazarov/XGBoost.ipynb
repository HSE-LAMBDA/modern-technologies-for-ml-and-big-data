{
 "cells": [
  {
   "cell_type": "markdown",
   "metadata": {},
   "source": [
    "# eXtreme Gradient Boosting library (XGBoost)\n",
    "\n",
    "<center>An unfocused introduction by Ivan Nazarov</center>"
   ]
  },
  {
   "cell_type": "markdown",
   "metadata": {},
   "source": [
    "Import the main toolkit."
   ]
  },
  {
   "cell_type": "code",
   "execution_count": 2,
   "metadata": {
    "collapsed": true
   },
   "outputs": [],
   "source": [
    "import time, os, re, zipfile\n",
    "import numpy as np, pandas as pd\n",
    "%matplotlib inline\n",
    "import matplotlib.pyplot as plt"
   ]
  },
  {
   "cell_type": "markdown",
   "metadata": {},
   "source": [
    "Now import some ML stuff"
   ]
  },
  {
   "cell_type": "code",
   "execution_count": 4,
   "metadata": {
    "collapsed": false
   },
   "outputs": [],
   "source": [
    "import sklearn as sk, xgboost as xg\n",
    "# from sklearn.model_selection import train_test_split\n",
    "from sklearn.cross_validation import train_test_split"
   ]
  },
  {
   "cell_type": "markdown",
   "metadata": {},
   "source": [
    "Mind the seed!!"
   ]
  },
  {
   "cell_type": "code",
   "execution_count": 5,
   "metadata": {
    "collapsed": false
   },
   "outputs": [],
   "source": [
    "random_state = np.random.RandomState( seed = 0x0BADC0DE )"
   ]
  },
  {
   "cell_type": "markdown",
   "metadata": {},
   "source": [
    "Let's begin this introduction with usage examples."
   ]
  },
  {
   "cell_type": "markdown",
   "metadata": {},
   "source": [
    "The demonstration uses the dataset, which was originally used in \n",
    "[Otto Group Product Classification Challenge](https://www.kaggle.com/c/otto-group-product-classification-challenge). We load the data directly from ZIP archives."
   ]
  },
  {
   "cell_type": "code",
   "execution_count": 6,
   "metadata": {
    "collapsed": false
   },
   "outputs": [],
   "source": [
    "df_train = pd.read_csv( zipfile.ZipFile( 'train.csv.zip' ).open( 'train.csv' ), index_col = 'id' )\n",
    "X = np.asanyarray( df_train.drop( 'target', axis = 1 ) )\n",
    "y = sk.preprocessing.LabelEncoder( ).fit_transform( df_train[ 'target' ] )"
   ]
  },
  {
   "cell_type": "markdown",
   "metadata": {},
   "source": [
    "As usual do the train-test split."
   ]
  },
  {
   "cell_type": "code",
   "execution_count": 7,
   "metadata": {
    "collapsed": false
   },
   "outputs": [],
   "source": [
    "X_train, X_, y_train, y_ = train_test_split( X, y, test_size = 0.25, random_state = random_state )\n",
    "X_valid, X_test, y_valid, y_test = train_test_split( X_, y_, test_size = 0.5, random_state = random_state )"
   ]
  },
  {
   "cell_type": "markdown",
   "metadata": {},
   "source": [
    "## scikit-learn interface"
   ]
  },
  {
   "cell_type": "markdown",
   "metadata": {},
   "source": [
    "Use scikit-learn compatible interface of XGBoost."
   ]
  },
  {
   "cell_type": "code",
   "execution_count": 9,
   "metadata": {
    "collapsed": true
   },
   "outputs": [],
   "source": [
    "clf_ = xg.XGBClassifier( n_estimators = 50,\n",
    "                         gamma = 1.0,\n",
    "                         max_depth = 1000,\n",
    "                         objective = \"multi:softmax\",\n",
    "                         nthread = -1,\n",
    "                         silent = False )"
   ]
  },
  {
   "cell_type": "markdown",
   "metadata": {},
   "source": [
    "Fit the a gradient boosted tree ensemble."
   ]
  },
  {
   "cell_type": "code",
   "execution_count": 10,
   "metadata": {
    "collapsed": false,
    "scrolled": true
   },
   "outputs": [
    {
     "name": "stderr",
     "output_type": "stream",
     "text": [
      "[0]\tvalidation_0-merror:0.232191\n",
      "[1]\tvalidation_0-merror:0.215902\n",
      "[2]\tvalidation_0-merror:0.205430\n",
      "[3]\tvalidation_0-merror:0.202715\n",
      "[4]\tvalidation_0-merror:0.200776\n",
      "[5]\tvalidation_0-merror:0.198966\n",
      "[6]\tvalidation_0-merror:0.197544\n",
      "[7]\tvalidation_0-merror:0.194958\n",
      "[8]\tvalidation_0-merror:0.193794\n",
      "[9]\tvalidation_0-merror:0.192760\n",
      "[10]\tvalidation_0-merror:0.191597\n",
      "[11]\tvalidation_0-merror:0.190692\n",
      "[12]\tvalidation_0-merror:0.189270\n",
      "[13]\tvalidation_0-merror:0.188235\n",
      "[14]\tvalidation_0-merror:0.186813\n",
      "[15]\tvalidation_0-merror:0.186555\n",
      "[16]\tvalidation_0-merror:0.186037\n",
      "[17]\tvalidation_0-merror:0.184874\n",
      "[18]\tvalidation_0-merror:0.183969\n",
      "[19]\tvalidation_0-merror:0.182547\n",
      "[20]\tvalidation_0-merror:0.181642\n",
      "[21]\tvalidation_0-merror:0.182030\n",
      "[22]\tvalidation_0-merror:0.180995\n",
      "[23]\tvalidation_0-merror:0.180220\n",
      "[24]\tvalidation_0-merror:0.180091\n",
      "[25]\tvalidation_0-merror:0.181513\n",
      "[26]\tvalidation_0-merror:0.181771\n",
      "[27]\tvalidation_0-merror:0.180478\n",
      "[28]\tvalidation_0-merror:0.179573\n",
      "[29]\tvalidation_0-merror:0.179186\n",
      "[30]\tvalidation_0-merror:0.178927\n",
      "[31]\tvalidation_0-merror:0.178927\n",
      "[32]\tvalidation_0-merror:0.178798\n",
      "[33]\tvalidation_0-merror:0.178022\n",
      "[34]\tvalidation_0-merror:0.177893\n",
      "[35]\tvalidation_0-merror:0.178927\n",
      "[36]\tvalidation_0-merror:0.178151\n",
      "[37]\tvalidation_0-merror:0.178281\n",
      "[38]\tvalidation_0-merror:0.177117\n",
      "[39]\tvalidation_0-merror:0.177505\n",
      "[40]\tvalidation_0-merror:0.177634\n",
      "[41]\tvalidation_0-merror:0.177763\n",
      "[42]\tvalidation_0-merror:0.177505\n",
      "[43]\tvalidation_0-merror:0.176471\n",
      "[44]\tvalidation_0-merror:0.177117\n",
      "[45]\tvalidation_0-merror:0.175953\n",
      "[46]\tvalidation_0-merror:0.175695\n",
      "[47]\tvalidation_0-merror:0.177117\n",
      "[48]\tvalidation_0-merror:0.176471\n",
      "[49]\tvalidation_0-merror:0.176212\n"
     ]
    },
    {
     "data": {
      "text/plain": [
       "XGBClassifier(base_score=0.5, colsample_bylevel=1, colsample_bytree=1,\n",
       "       gamma=1.0, learning_rate=0.1, max_delta_step=0, max_depth=1000,\n",
       "       min_child_weight=1, missing=None, n_estimators=50, nthread=-1,\n",
       "       objective='multi:softprob', reg_alpha=0, reg_lambda=1,\n",
       "       scale_pos_weight=1, seed=0, silent=False, subsample=1)"
      ]
     },
     "execution_count": 10,
     "metadata": {},
     "output_type": "execute_result"
    }
   ],
   "source": [
    "clf_.fit( X_train, y_train, eval_set = [ ( X_valid, y_valid ), ], verbose = True )"
   ]
  },
  {
   "cell_type": "markdown",
   "metadata": {},
   "source": [
    "Now let's validate."
   ]
  },
  {
   "cell_type": "code",
   "execution_count": 11,
   "metadata": {
    "collapsed": true
   },
   "outputs": [],
   "source": [
    "y_predict = clf_.predict( X_test )\n",
    "y_score = clf_.predict_proba( X_test )"
   ]
  },
  {
   "cell_type": "markdown",
   "metadata": {},
   "source": [
    "Let's check out the confusuion matrix"
   ]
  },
  {
   "cell_type": "code",
   "execution_count": 12,
   "metadata": {
    "collapsed": false
   },
   "outputs": [
    {
     "data": {
      "text/html": [
       "<div>\n",
       "<table border=\"1\" class=\"dataframe\">\n",
       "  <thead>\n",
       "    <tr style=\"text-align: right;\">\n",
       "      <th></th>\n",
       "      <th>0</th>\n",
       "      <th>1</th>\n",
       "      <th>2</th>\n",
       "      <th>3</th>\n",
       "      <th>4</th>\n",
       "      <th>5</th>\n",
       "      <th>6</th>\n",
       "      <th>7</th>\n",
       "      <th>8</th>\n",
       "    </tr>\n",
       "  </thead>\n",
       "  <tbody>\n",
       "    <tr>\n",
       "      <th>0</th>\n",
       "      <td>111</td>\n",
       "      <td>8</td>\n",
       "      <td>3</td>\n",
       "      <td>0</td>\n",
       "      <td>0</td>\n",
       "      <td>28</td>\n",
       "      <td>12</td>\n",
       "      <td>43</td>\n",
       "      <td>52</td>\n",
       "    </tr>\n",
       "    <tr>\n",
       "      <th>1</th>\n",
       "      <td>2</td>\n",
       "      <td>1771</td>\n",
       "      <td>249</td>\n",
       "      <td>22</td>\n",
       "      <td>2</td>\n",
       "      <td>2</td>\n",
       "      <td>18</td>\n",
       "      <td>3</td>\n",
       "      <td>3</td>\n",
       "    </tr>\n",
       "    <tr>\n",
       "      <th>2</th>\n",
       "      <td>0</td>\n",
       "      <td>390</td>\n",
       "      <td>537</td>\n",
       "      <td>25</td>\n",
       "      <td>0</td>\n",
       "      <td>6</td>\n",
       "      <td>16</td>\n",
       "      <td>4</td>\n",
       "      <td>2</td>\n",
       "    </tr>\n",
       "    <tr>\n",
       "      <th>3</th>\n",
       "      <td>0</td>\n",
       "      <td>81</td>\n",
       "      <td>57</td>\n",
       "      <td>174</td>\n",
       "      <td>4</td>\n",
       "      <td>9</td>\n",
       "      <td>2</td>\n",
       "      <td>0</td>\n",
       "      <td>1</td>\n",
       "    </tr>\n",
       "    <tr>\n",
       "      <th>4</th>\n",
       "      <td>0</td>\n",
       "      <td>3</td>\n",
       "      <td>1</td>\n",
       "      <td>0</td>\n",
       "      <td>299</td>\n",
       "      <td>0</td>\n",
       "      <td>0</td>\n",
       "      <td>1</td>\n",
       "      <td>1</td>\n",
       "    </tr>\n",
       "    <tr>\n",
       "      <th>5</th>\n",
       "      <td>4</td>\n",
       "      <td>12</td>\n",
       "      <td>2</td>\n",
       "      <td>5</td>\n",
       "      <td>3</td>\n",
       "      <td>1633</td>\n",
       "      <td>17</td>\n",
       "      <td>31</td>\n",
       "      <td>26</td>\n",
       "    </tr>\n",
       "    <tr>\n",
       "      <th>6</th>\n",
       "      <td>7</td>\n",
       "      <td>34</td>\n",
       "      <td>30</td>\n",
       "      <td>3</td>\n",
       "      <td>0</td>\n",
       "      <td>18</td>\n",
       "      <td>212</td>\n",
       "      <td>18</td>\n",
       "      <td>5</td>\n",
       "    </tr>\n",
       "    <tr>\n",
       "      <th>7</th>\n",
       "      <td>10</td>\n",
       "      <td>6</td>\n",
       "      <td>5</td>\n",
       "      <td>0</td>\n",
       "      <td>0</td>\n",
       "      <td>32</td>\n",
       "      <td>4</td>\n",
       "      <td>1028</td>\n",
       "      <td>17</td>\n",
       "    </tr>\n",
       "    <tr>\n",
       "      <th>8</th>\n",
       "      <td>19</td>\n",
       "      <td>8</td>\n",
       "      <td>2</td>\n",
       "      <td>2</td>\n",
       "      <td>1</td>\n",
       "      <td>24</td>\n",
       "      <td>2</td>\n",
       "      <td>27</td>\n",
       "      <td>546</td>\n",
       "    </tr>\n",
       "  </tbody>\n",
       "</table>\n",
       "</div>"
      ],
      "text/plain": [
       "     0     1    2    3    4     5    6     7    8\n",
       "0  111     8    3    0    0    28   12    43   52\n",
       "1    2  1771  249   22    2     2   18     3    3\n",
       "2    0   390  537   25    0     6   16     4    2\n",
       "3    0    81   57  174    4     9    2     0    1\n",
       "4    0     3    1    0  299     0    0     1    1\n",
       "5    4    12    2    5    3  1633   17    31   26\n",
       "6    7    34   30    3    0    18  212    18    5\n",
       "7   10     6    5    0    0    32    4  1028   17\n",
       "8   19     8    2    2    1    24    2    27  546"
      ]
     },
     "execution_count": 12,
     "metadata": {},
     "output_type": "execute_result"
    }
   ],
   "source": [
    "pd.DataFrame( sk.metrics.confusion_matrix( y_test, y_predict ), index = clf_.classes_, columns = clf_.classes_ )"
   ]
  },
  {
   "cell_type": "markdown",
   "metadata": {},
   "source": [
    "Let's plot one-vs-all ROC-AUC curves"
   ]
  },
  {
   "cell_type": "code",
   "execution_count": 13,
   "metadata": {
    "collapsed": false
   },
   "outputs": [
    {
     "data": {
      "text/plain": [
       "<matplotlib.legend.Legend at 0x113b53c50>"
      ]
     },
     "execution_count": 13,
     "metadata": {},
     "output_type": "execute_result"
    },
    {
     "data": {
      "image/png": "[encoded data removed]",
      "text/plain": [
       "<matplotlib.figure.Figure at 0x1141690d0>"
      ]
     },
     "metadata": {},
     "output_type": "display_data"
    }
   ],
   "source": [
    "fig = plt.figure( figsize = ( 16, 9 ) )\n",
    "axis = fig.add_subplot( 111 )\n",
    "axis.set_title( 'ROC-AUC (ovr) curves for the heldout dataset' )\n",
    "axis.set_xlabel( \"False positive rate\" ) ; axis.set_ylabel( \"True positive rate\" )\n",
    "axis.set_ylim( -0.01, 1.01 ) ; axis.set_xlim( -0.01, 1.01 )\n",
    "for cls_ in clf_.classes_ :\n",
    "    fpr, tpr, _ = sk.metrics.roc_curve( y_test, y_score[:, cls_], pos_label = cls_ )\n",
    "    axis.plot( fpr, tpr, lw = 2, zorder = cls_, label = \"C%d\" % ( cls_, ) )\n",
    "axis.legend( loc = 'lower right', shadow = True, ncol = 3 )"
   ]
  },
  {
   "cell_type": "markdown",
   "metadata": {},
   "source": [
    "## alternative interface"
   ]
  },
  {
   "cell_type": "markdown",
   "metadata": {},
   "source": [
    "Internally XGBoost relies heavily on a custom dataset format **DMatrix**. It is ...\n",
    "The interface, which is exposed into python has three capabilities:\n",
    "- load datasets in libSVM compatible format;\n",
    "- load SciPy's sparse matrices;\n",
    "- load Numpy's ndarrays."
   ]
  },
  {
   "cell_type": "markdown",
   "metadata": {},
   "source": [
    "Let's load the train dataset using numpy interface :\n",
    "- **data** : the matrix of features $X$;\n",
    "- **label** : the observation labels $y$ (could be categorical or numeric);\n",
    "- **missing** : a vector of values that encode missing observations;\n",
    "- **feature_names** : the columns names of $X$;\n",
    "- **feature_types** : defines the python types of each column of $X$, in case of heterogeneous data;\n",
    "- **weight** : the vector of nonnegative weights of each observation in the dataset."
   ]
  },
  {
   "cell_type": "code",
   "execution_count": 20,
   "metadata": {
    "collapsed": false
   },
   "outputs": [],
   "source": [
    "train_dmat = xg.DMatrix( data = X_train,\n",
    "                         label = y_train,\n",
    "                         feature_names = None,\n",
    "                         feature_types = None )\n",
    "test_dmat = xg.DMatrix( data = X_test, label = y_test )"
   ]
  },
  {
   "cell_type": "markdown",
   "metadata": {},
   "source": [
    "**DMatrix** exports several useful methods:\n",
    "- **num_col()** : returns the number of columns;\n",
    "- **num_row()** : gets the number of items;\n",
    "- **save_binary( fname )** : saves the **DMatrix** object into a specified file.\n",
    "\n",
    "For a more detailed list, it is useful to have a look at [the official manual](https://xgboost.readthedocs.org/en/latest/python/python_api.html)"
   ]
  },
  {
   "cell_type": "markdown",
   "metadata": {},
   "source": [
    "Having dafined the datasets, it is the right time to initialize the booster. To this end one uses **xgboost.Learner** class. Among other parameters, its instance is initialized with a dictionary of parameters, which allows for a more flexible booster initialization."
   ]
  },
  {
   "cell_type": "code",
   "execution_count": 26,
   "metadata": {
    "collapsed": true
   },
   "outputs": [],
   "source": [
    "xgb_params = {\n",
    "    'bst:max_depth':2,\n",
    "    'bst:eta':1,\n",
    "    'silent':1,\n",
    "    'objective':'multi:softmax',\n",
    "    'num_class': 9,\n",
    "    'nthread': 2, \n",
    "    'eval_metric' : 'auc'\n",
    "}"
   ]
  },
  {
   "cell_type": "markdown",
   "metadata": {},
   "source": [
    "The **xgboost.train** class initalizes an appropriate booster, and then fits it on the provided train dataset. Besides the booster parameters and the train **DMatrix** , the class initializer accepts:\n",
    "- **num_boost_round** : and interger number of boosting iterations which is the number of trees in the final ensemble;\n",
    "- **evals** : a list of **DMatrix** validation datasets to be evaluated during training;\n",
    "- **obj** : a custom objective function;\n",
    "- **feval** : a custom evaluation function;\n",
    "- **early_stopping_rounds** : Activates early stopping, which checks every **early_stopping_rounds** round(s) if the validation error has decreased in order to continue training;\n",
    "- **maximize** : a flag, which determines if the objective (feval) should be maximized;\n",
    "- **learning_rates** : a schedule for learning rates for each boosting round or a function that calculates $\\eta$, for the current round;\n",
    "- **xgb_model** : an XGB model (booster or file), the training of which is to be continued."
   ]
  },
  {
   "cell_type": "code",
   "execution_count": 27,
   "metadata": {
    "collapsed": false
   },
   "outputs": [],
   "source": [
    "xgbooster_ = xg.train( params = xgb_params,\n",
    "                       dtrain = train_dmat, \n",
    "                       num_boost_round = 10,\n",
    "                       evals = (),\n",
    "                       obj = None,\n",
    "                       feval = None,\n",
    "                       maximize = False,\n",
    "                       early_stopping_rounds = None,\n",
    "                       evals_result = None,\n",
    "                       verbose_eval = True,\n",
    "                       learning_rates = None,\n",
    "                       xgb_model = None )"
   ]
  },
  {
   "cell_type": "markdown",
   "metadata": {},
   "source": [
    "The method **xgboost.booster.update** performs one iteration of gradinet boosting:\n",
    "- **dtrain** : **DMatrix** of train dataset;\n",
    "- **iteration** : the current iteration number;\n",
    "- **fobj** : a custom objective function touse for this update."
   ]
  },
  {
   "cell_type": "markdown",
   "metadata": {},
   "source": [
    "The method **xboost.booster.boost** performs one iteration of boosting on the custom gradient statistics:\n",
    "- **dtrain** : the **DMatrix** dataset to operate on;\n",
    "- **grad**, **hess** : pair of lists of loss gradients and hessians, respectively, evaluated at each datapoint in **dtrain**."
   ]
  },
  {
   "cell_type": "markdown",
   "metadata": {},
   "source": [
    "The method **xgboost.booster.predict** returns either the learned value, or the index of the target leaf. The parameters are :\n",
    "- **data** : a **DMatrix** object storing the input;\n",
    "- **output_margin** : a flag, determining, if raw untransformed margin values should be returned;\n",
    "- **ntree_limit** : limit the number of trees used for predicting (defaults to 0, which use all trees);\n",
    "- **pred_leaf** : determined wether the output should be a matrix of $(n, K)$ of predicted leaf indices, where $K$ is the number of trees in the ensemble.\n",
    "\n",
    "The returned result is a **numpy ndarray**."
   ]
  },
  {
   "cell_type": "code",
   "execution_count": 28,
   "metadata": {
    "collapsed": true
   },
   "outputs": [],
   "source": [
    "y_predict = xgbooster_.predict( test_dmat )\n",
    "y_score = xgbooster_.predict( test_dmat, output_margin = True )"
   ]
  },
  {
   "cell_type": "markdown",
   "metadata": {},
   "source": [
    "Besides these methods **xgboost.booster** exports:\n",
    "**load_model**( fname ) and **save_model**( fname )."
   ]
  },
  {
   "cell_type": "markdown",
   "metadata": {},
   "source": [
    "Let's check out the confusuion matrix"
   ]
  },
  {
   "cell_type": "code",
   "execution_count": 29,
   "metadata": {
    "collapsed": false
   },
   "outputs": [
    {
     "data": {
      "text/html": [
       "<div>\n",
       "<table border=\"1\" class=\"dataframe\">\n",
       "  <thead>\n",
       "    <tr style=\"text-align: right;\">\n",
       "      <th></th>\n",
       "      <th>0</th>\n",
       "      <th>1</th>\n",
       "      <th>2</th>\n",
       "      <th>3</th>\n",
       "      <th>4</th>\n",
       "      <th>5</th>\n",
       "      <th>6</th>\n",
       "      <th>7</th>\n",
       "      <th>8</th>\n",
       "    </tr>\n",
       "  </thead>\n",
       "  <tbody>\n",
       "    <tr>\n",
       "      <th>0</th>\n",
       "      <td>88</td>\n",
       "      <td>16</td>\n",
       "      <td>7</td>\n",
       "      <td>1</td>\n",
       "      <td>1</td>\n",
       "      <td>28</td>\n",
       "      <td>12</td>\n",
       "      <td>42</td>\n",
       "      <td>62</td>\n",
       "    </tr>\n",
       "    <tr>\n",
       "      <th>1</th>\n",
       "      <td>1</td>\n",
       "      <td>1714</td>\n",
       "      <td>289</td>\n",
       "      <td>33</td>\n",
       "      <td>4</td>\n",
       "      <td>6</td>\n",
       "      <td>11</td>\n",
       "      <td>5</td>\n",
       "      <td>9</td>\n",
       "    </tr>\n",
       "    <tr>\n",
       "      <th>2</th>\n",
       "      <td>0</td>\n",
       "      <td>552</td>\n",
       "      <td>366</td>\n",
       "      <td>19</td>\n",
       "      <td>2</td>\n",
       "      <td>4</td>\n",
       "      <td>21</td>\n",
       "      <td>7</td>\n",
       "      <td>9</td>\n",
       "    </tr>\n",
       "    <tr>\n",
       "      <th>3</th>\n",
       "      <td>1</td>\n",
       "      <td>146</td>\n",
       "      <td>54</td>\n",
       "      <td>98</td>\n",
       "      <td>4</td>\n",
       "      <td>17</td>\n",
       "      <td>4</td>\n",
       "      <td>0</td>\n",
       "      <td>4</td>\n",
       "    </tr>\n",
       "    <tr>\n",
       "      <th>4</th>\n",
       "      <td>0</td>\n",
       "      <td>12</td>\n",
       "      <td>1</td>\n",
       "      <td>0</td>\n",
       "      <td>292</td>\n",
       "      <td>0</td>\n",
       "      <td>0</td>\n",
       "      <td>0</td>\n",
       "      <td>0</td>\n",
       "    </tr>\n",
       "    <tr>\n",
       "      <th>5</th>\n",
       "      <td>8</td>\n",
       "      <td>28</td>\n",
       "      <td>10</td>\n",
       "      <td>6</td>\n",
       "      <td>1</td>\n",
       "      <td>1591</td>\n",
       "      <td>16</td>\n",
       "      <td>45</td>\n",
       "      <td>28</td>\n",
       "    </tr>\n",
       "    <tr>\n",
       "      <th>6</th>\n",
       "      <td>5</td>\n",
       "      <td>49</td>\n",
       "      <td>39</td>\n",
       "      <td>5</td>\n",
       "      <td>0</td>\n",
       "      <td>23</td>\n",
       "      <td>179</td>\n",
       "      <td>24</td>\n",
       "      <td>3</td>\n",
       "    </tr>\n",
       "    <tr>\n",
       "      <th>7</th>\n",
       "      <td>22</td>\n",
       "      <td>20</td>\n",
       "      <td>13</td>\n",
       "      <td>1</td>\n",
       "      <td>0</td>\n",
       "      <td>38</td>\n",
       "      <td>14</td>\n",
       "      <td>954</td>\n",
       "      <td>40</td>\n",
       "    </tr>\n",
       "    <tr>\n",
       "      <th>8</th>\n",
       "      <td>15</td>\n",
       "      <td>34</td>\n",
       "      <td>8</td>\n",
       "      <td>1</td>\n",
       "      <td>3</td>\n",
       "      <td>32</td>\n",
       "      <td>2</td>\n",
       "      <td>55</td>\n",
       "      <td>481</td>\n",
       "    </tr>\n",
       "  </tbody>\n",
       "</table>\n",
       "</div>"
      ],
      "text/plain": [
       "    0     1    2   3    4     5    6    7    8\n",
       "0  88    16    7   1    1    28   12   42   62\n",
       "1   1  1714  289  33    4     6   11    5    9\n",
       "2   0   552  366  19    2     4   21    7    9\n",
       "3   1   146   54  98    4    17    4    0    4\n",
       "4   0    12    1   0  292     0    0    0    0\n",
       "5   8    28   10   6    1  1591   16   45   28\n",
       "6   5    49   39   5    0    23  179   24    3\n",
       "7  22    20   13   1    0    38   14  954   40\n",
       "8  15    34    8   1    3    32    2   55  481"
      ]
     },
     "execution_count": 29,
     "metadata": {},
     "output_type": "execute_result"
    }
   ],
   "source": [
    "pd.DataFrame( sk.metrics.confusion_matrix( y_test, y_predict ), index = clf_.classes_, columns = clf_.classes_ )"
   ]
  },
  {
   "cell_type": "markdown",
   "metadata": {},
   "source": [
    "Let's plot one-vs-all ROC-AUC curves"
   ]
  },
  {
   "cell_type": "code",
   "execution_count": 30,
   "metadata": {
    "collapsed": false
   },
   "outputs": [
    {
     "data": {
      "text/plain": [
       "<matplotlib.legend.Legend at 0x11831f5d0>"
      ]
     },
     "execution_count": 30,
     "metadata": {},
     "output_type": "execute_result"
    },
    {
     "data": {
      "image/png": "[encoded data removed]",
      "text/plain": [
       "<matplotlib.figure.Figure at 0x117f8dad0>"
      ]
     },
     "metadata": {},
     "output_type": "display_data"
    }
   ],
   "source": [
    "fig = plt.figure( figsize = ( 16, 9 ) )\n",
    "axis = fig.add_subplot( 111 )\n",
    "axis.set_title( 'ROC-AUC (ovr) curves for the heldout dataset' )\n",
    "axis.set_xlabel( \"False positive rate\" ) ; axis.set_ylabel( \"True positive rate\" )\n",
    "axis.set_ylim( -0.01, 1.01 ) ; axis.set_xlim( -0.01, 1.01 )\n",
    "for cls_ in clf_.classes_ :\n",
    "    fpr, tpr, _ = sk.metrics.roc_curve( y_test, y_score[:, cls_], pos_label = cls_ )\n",
    "    axis.plot( fpr, tpr, lw = 2, zorder = cls_, label = \"C%d\" % ( cls_, ) )\n",
    "axis.legend( loc = 'lower right', shadow = True, ncol = 3 )"
   ]
  },
  {
   "cell_type": "markdown",
   "metadata": {},
   "source": [
    "## Theoretical background "
   ]
  },
  {
   "cell_type": "markdown",
   "metadata": {},
   "source": [
    "Consider some dataset $(x_i, y_i)_{i=1}^n \\in X\\times Y$, where $X$ is the feature space and $Y$ is the space of target values. Let $\\mathtt{Obj}(\\theta)$ be the objective function, which we wish to minimize by learning a model (or a set of parameters). The objective has two components, which depend on the paramter set $\\theta$ :\n",
    "$$\\mathtt{Obj}(\\theta) = L(\\theta) + \\Omega(\\theta)\\,. $$\n",
    "Here $L$ is the trainig loss function, which reflects the overall quaility and fittness of the learned model, and $\\Omega$ is the regularization term, which controls overfitting by penalizing the model's complexity.\n",
    "The working assumption here is theat the more complex the model the more likely it is to fail to generalize and overfit."
   ]
  },
  {
   "cell_type": "markdown",
   "metadata": {},
   "source": [
    "Let $\\mathcal{M}$ be the set of base models for the ensemble, for instance, CART tree. An learner tries to find a pool of $K$ models $(f_k)_{k=1}^K \\in \\mathcal{M}$, which, when aggregated into an ensemble\n",
    "$$ \\hat{y}(x) = \\sum_{k=1}^K f_k(x)\\,, $$\n",
    "minimize the objective function\n",
    "$$\\mathtt{Obj} = \\sum_{i=1}^n l( y_i, \\hat{y}(x_i) ) + \\sum_{k=1}^K \\Omega(f_k)\\,,$$\n",
    "with $l(y, \\hat{y})$ being the loss, and $\\Omega(\\cdot)$ -- the complexity regularizer."
   ]
  },
  {
   "cell_type": "markdown",
   "metadata": {},
   "source": [
    "In a general nonlinear and non-convex case solving the follwing optimiation problem is hard:\n",
    "$$ \\sum_{i=1}^n l( y_i, \\hat{y}_i ) + \\sum_{k=1}^K \\Omega(f_k)\n",
    "    \\rightarrow \\mathop{\\mathtt{min}}_{f_k\\in\\mathcal{M} } \\,,$$\n",
    "with $\\hat{y}_i = \\sum_{k=1}^K f_k(x_i)$. No general technique for solving it is known, other than applying\n",
    "a clever variant of exhaustive search. Furthermore minimizing the objective to the extreme might be undesirable, as the data might be subject to random noise and other impurities.\n",
    "\n",
    "If optimizing the objective function (either the original or modified in some way) over one base model (function) is tractable and can be dome efficiently, then one could apply greedy search method, the search space of which is much narrower."
   ]
  },
  {
   "cell_type": "markdown",
   "metadata": {},
   "source": [
    "### FSAM"
   ]
  },
  {
   "cell_type": "markdown",
   "metadata": {},
   "source": [
    "**F**orward **S**tagewise **A**dditive **M**odelling is a general greedy approach to modelling additive enesembles.\n",
    "The basic idea of this approach is to construct a suboptimal model incrementally in a greedy fashion. For the objective function $\\mathtt{Obj}$ the approach is outlined below:\n",
    "1. set $F_0 = 0$;\n",
    "2. for $k = 1,\\ldots, K$ do:\n",
    "    1. using some efficient method find at least a good approximation to the following:\n",
    "    $$f_k \\leftarrow \\mathop{\\mathtt{argmin}}\\limits_{f\\in \\mathcal{M}}\n",
    "                                \\sum_{i=1}^n l( y_i, F_{k-1}(x_i) + f(x_i) ) + \\Omega(f) \\,,$$\n",
    "       where the complexity penalty $\\Omega(F_{k-1}) = \\sum_{j=1}^{k-1} \\Omega(f_j) $ is omitted, since it does not depend on $f_k$;\n",
    "    2. set $ F_k = F_{k-1} + f_k$;\n",
    "3. Return $F_K$."
   ]
  },
  {
   "cell_type": "markdown",
   "metadata": {},
   "source": [
    "### Gradient boosting"
   ]
  },
  {
   "cell_type": "markdown",
   "metadata": {},
   "source": [
    "The gradinet boosting algorithm, in its simplest form is outlined below."
   ]
  },
  {
   "cell_type": "markdown",
   "metadata": {},
   "source": [
    "1. set $F_0 = 0$;\n",
    "2. for $k = 1,\\ldots, K$ do:\n",
    "    1. compute the direction of the greatest descent at the the datapoints $(x_i, \\hat{y}_i)_{i=1}^n$\n",
    "    with $\\hat{y}_i = F_{k-1}(x_i)$:\n",
    "        $$ g^{k-1}_i = -\n",
    "            \\biggl.\n",
    "                \\frac{\\partial}{\\partial \\hat{y}_i} L\\bigl( (y_i)_{i=1}^n, (\\hat{y}_i)_{i=1}^n \\bigr) \n",
    "            \\biggr\\rvert_{\\hat{y}_i = F_{k-1}(x_i)}\\,, $$\n",
    "    where $L\\bigl( (y_i)_{i=1}^n, (\\hat{y}_i)_{i=1}^n \\bigr) = \\sum_{i=1}^n l( y_i, \\hat{y}_i )$;\n",
    "    2. attempt to generalize the loss gradient by fitting a regression tree\n",
    "    to $(x_i, g^{k-1}_i)_{i=1}^n$;\n",
    "    3. for the resulting partition structure $(R_j)_{j=1}^J$ compute\n",
    "        $$w_j^* \\leftarrow \\mathop{\\mathtt{argmin}}\\limits_{w\\in \\mathbb{R}}\n",
    "                        \\sum_{i\\,:\\,x_i\\in R_j} l( y_i, \\hat{y}_i + w ) + \\Omega(w)\\,,$$\n",
    "       where $\\Omega(w)$ is the regularizer term for weight $w$;\n",
    "    4. set $f_k = \\sum_{j=1}^J w_j^* 1_{R_j}$;\n",
    "    5. update $ F_k \\leftarrow F_{k-1} + \\eta f_k$;\n",
    "3. Return $F_K$."
   ]
  },
  {
   "cell_type": "markdown",
   "metadata": {},
   "source": [
    "### General objectives"
   ]
  },
  {
   "cell_type": "markdown",
   "metadata": {},
   "source": [
    "In order to permit the use of arbitrary convex loss functions and still achieve high preformance during learning, the author of XGBoost, implemented a clever trick: the minimization with respect to the increment $f(\\cdot)$ is performed on the second order Taylor series approximation of the loss $l$ at $(x_i, y_i)$ and $F(\\cdot)$. In particular the minimization over $f(\\cdot)$ is done on\n",
    "$$ q_{y, x} = l( y, F(x) ) + \\frac{\\partial l}{\\partial \\hat{y}}\\bigg\\vert_{(y,F(x))}\\!\\! f(x)\n",
    "                          + \\frac{1}{2} \\frac{\\partial^2 l}{\\partial \\hat{y}^2}\\bigg\\vert_{(y,F(x))}\\! f(x)^2  \\,, $$\n",
    "rather than $l( y, F(x) + f(x) )$."
   ]
  },
  {
   "cell_type": "markdown",
   "metadata": {},
   "source": [
    "Since $\\Omega(F_{k-1})$ and $l( y_i, F_{k-1}(x_i) )$ are unaffected by the choice of $f\\in\\mathcal{M}$ at iteration $k$, the greedy step can be reduced to:\n",
    "$$f_k \\leftarrow \\mathop{\\mathtt{argmin}}\\limits_{f\\in \\mathcal{M}}\n",
    "                                \\sum_{i=1}^n g^{k-1}_i f(x_i) + \\frac{1}{2} h^{k-1}_i f(x_i)^2 + \\Omega(f)\\,,$$\n",
    "where\n",
    "$g^{k-1}_i = \\frac{\\partial l(y, \\hat{y})}{\\partial \\hat{y}}$ and $h^{k-1}_i = \\frac{\\partial^2 l(y, \\hat{y})}{\\partial \\hat{y}^2}$ evaluated at $y=y_i$ and $\\hat{y}=F_{k-1}(x_i)$.\n",
    "\n",
    "it turned out to be efficient and no less it was deemed better to approximate"
   ]
  },
  {
   "cell_type": "markdown",
   "metadata": {},
   "source": [
    "### Model class"
   ]
  },
  {
   "cell_type": "markdown",
   "metadata": {},
   "source": [
    "XGBoost library implements two base models, $f:X\\to \\mathbb{R}$: linear approximator and nonlinear tree-like model. A linear base model is of the form \n",
    "$$ f(x) = \\beta_0 + x\\beta \\,, $$\n",
    "where $\\beta_0\\in \\mathbb{R}$ is the intercept and $\\beta\\in \\mathbb{R}^{d\\times 1}$ is the vector of coefficients.\n",
    "\n",
    "Regression tree models are a subcalss of piecewise-constant models:\n",
    "$$ f(x) = \\sum_{j=1}^J w_j 1_{R_j}(x)\\,, $$\n",
    "where $R = (R_j)_{j=1}^J \\subseteq X$ is a partition of the domain $X$ into non-overlapping regions, and $w_j$ is the level of $f$ for all $x$, which fall within leaf $j$, $x\\in R_j$.\n",
    "Since $R$ is partition, for any $x\\in X$ there is a unique $j(x)=1,\\ldots,J$ such that $x\\in R_{j(x)}$.\n",
    "Therefore in a more compact representation: for any $x\\in X$\n",
    "$$ f(x) = w_{j(x)} \\,.$$\n",
    "\n",
    "The regression tree model $f$ is directly used to predict the target value $y\\in \\mathbb{R}$ given some $x\\in X$, embedded in $\\mathbb{R}^p$."
   ]
  },
  {
   "cell_type": "markdown",
   "metadata": {},
   "source": [
    "The specific feature of tree models is that the partition $R$ is constructed in a recursive manner until some criteria for tree's structural score are met, and the final tree structure reflects the recursion tree.\n",
    "\n",
    "It important to note, that XGBoost implements binary trees, which does not restrict the model in any way. However this add the need for an extra preprocessing step for categorical features. Specifically the binary structure requires that such features be one-hot encoded, which is likely to use excessive volumes of memory, especially when the set of possible categories is of the order of thousands."
   ]
  },
  {
   "cell_type": "markdown",
   "metadata": {},
   "source": [
    "### Optimizing the objective"
   ]
  },
  {
   "cell_type": "markdown",
   "metadata": {},
   "source": [
    "XGBoost uses criteria derived from the objective function that permit automatic tree-pruning. Consider some tree $f$ with structure\n",
    "$$ f = \\sum_{j=1}^J w_j 1_{R_j} \\,,$$\n",
    "where $(R_j)_{j=1}^J\\subseteq X$ is its partition and $w\\in\\mathbb{R}^J$ -- leaf predicted values. For this tree the complexity regularization is\n",
    "$$ \\Omega(f) = \\gamma J + \\frac{\\lambda}{2} \\sum_{j=1}^J w_j^2 + \\alpha \\sum_{j=1}^J \\bigl|w_j\\bigr| \\,. $$\n",
    "As one can see both excessively large leaf values and tree depths are penalized."
   ]
  },
  {
   "cell_type": "markdown",
   "metadata": {},
   "source": [
    "The **structural score** of an XGBoost regression tree is the minimal value of the objective function for a fixed partition structure $R = (R_j)_{j=1}^J$:\n",
    "$$ \\mathtt{Obj}^*(R)\n",
    "        = \\min_{w_j} \\mathtt{Obj}(R, w)\n",
    "        = \\min_{w_j} \\sum_{i=1}^n \\bigl( g^{k-1}_i w_{j(x_i)} + \\frac{1}{2} h^{k-1}_i w_{j(x_i)}^2 \\bigr)\n",
    "                     + \\frac{\\lambda}{2} \\sum_{j=1}^J w_j^2 + \\alpha \\sum_{j=1}^J \\bigl|w_j\\bigr| + \\gamma J\n",
    "        \\,. $$\n",
    "This is not an intermediate value of the objective function, but rather its difference against $\\sum_{i=1}^n l( y_i, F_{k-1}(x_i) )$."
   ]
  },
  {
   "cell_type": "markdown",
   "metadata": {},
   "source": [
    "Using the map $x\\mapsto j(x)$, which gives the unique leaf index $j=1,\\ldots,J$ such that $x\\in R_j$, the objective function can be transformed into\n",
    "\\begin{align*}\n",
    "\\mathtt{Obj}(R, w) &= \\sum_{i=1}^n \\bigl( g^{k-1}_i w_{j(x_i)} + \\frac{1}{2} h^{k-1}_i w_{j(x_i)}^2 \\bigr)\n",
    "                  + \\frac{\\lambda}{2} \\sum_{j=1}^J w_j^2 + \\alpha \\sum_{j=1}^J \\bigl|w_j\\bigr| + \\gamma J \\\\\n",
    "             &= \\sum_{j=1}^J \\bigl( w_j G_{k-1}(R_j) + \\frac{1}{2} \\bigl( H_{k-1}(R_j) + \\lambda \\bigr) w_j^2\n",
    "                  + \\alpha \\bigl|w_j\\bigr| + \\gamma \\bigr) \\,,\n",
    "\\end{align*}\n",
    "where for any $P\\subseteq X$, the values $G_{k-1}(P) = \\sum_{i\\,:\\,x_i\\in P} g^{k-1}_i$ and $H_{k-1}(P) = \\sum_{i\\,:\\,x_i\\in P} h^{k-1}_i$ are called the **first** and the **second** order gradient scores respectively.\n",
    "When $P = R_j$ these are the $j$-th leaf gradinet statistics, which depend only on the ensemble $F_{k-1}$ and \n",
    "are constant relative to the increment $f$."
   ]
  },
  {
   "cell_type": "markdown",
   "metadata": {},
   "source": [
    "It is worth noting, that since there are no cross interactions between scores $w_j$ for different leaves, this minimization problem equivalently reduces to $J$ univariate optimization problems:\n",
    "$$ w_j G_{k-1}(R_j) + \\frac{1}{2} \\bigl( H_{k-1}(R_j) + \\lambda \\bigr) w_j^2\n",
    "                    + \\alpha \\bigl|w_j\\bigr| + \\gamma \\to \\min_{w_j}\\,,$$\n",
    "for $j=1,\\ldots, J$. Let's assume that $H_{k-1}(R_j) + \\lambda > 0$, since otherwise this problem has no solution."
   ]
  },
  {
   "cell_type": "markdown",
   "metadata": {},
   "source": [
    "The optimal leaf value $w_j^*$ in the general case is given by\n",
    "$$ w^*_j = - \\frac{1}{H_{k-1}(R_j) + \\lambda}\\begin{cases}\n",
    "G_{k-1}(R_j) + \\alpha & \\text{ if } G_{k-1}(R_j) \\leq -\\alpha\\\\\n",
    "0&\\text{ if } G_{k-1}(R_j) \\in [-\\alpha, \\alpha]\\\\\n",
    "G_{k-1}(R_j) - \\alpha & \\text{ if } G_{k-1}(R_j) \\geq \\alpha\n",
    "\\end{cases} \\,, $$\n",
    "see appendix for a solution."
   ]
  },
  {
   "cell_type": "markdown",
   "metadata": {},
   "source": [
    "### Tree construction process"
   ]
  },
  {
   "cell_type": "markdown",
   "metadata": {},
   "source": [
    "Trees in XGBoost employ a greedy algorithm for recursive tree construction, outlined below:\n",
    " 1. every region $R_j$ in the partition $R$ is probed for the optimal binary split\n",
    "    $R_j\\to R_{j_1}\\!\\|R_{j_2}$ according to the structural gain score\n",
    "    $$ \\mathtt{Gain}\\bigl( R_j\\to R_{j_1}\\!\\| R_{j_2} \\bigr) = \\mathtt{Obj}^*( R ) - \\mathtt{Obj}^*( R' ) \\,, $$\n",
    "    where the partition $R'$ is constructed from $R$ by splitting $R_j\\to R_{j_1}\\|R_{j_2}$;\n",
    " 2. the region $R_j$ with the highest gain from the optimal split is split into $R_{j_1}$ and $R_{j_2}$;\n",
    " 3. the tree growth process continues until no more splits are possible.\n",
    " \n",
    " The first step in sthe most computatuionally intensive, since it requires $O( J d n\\log n )$ operations."
   ]
  },
  {
   "cell_type": "markdown",
   "metadata": {},
   "source": [
    "For simplicity, let's consider the case when $\\alpha = 0$, $L^2$ regularization. In this case the following weights give optimal leaf scores\n",
    "$$ w^*_j = -\\frac{G_{k-1}(R_j)}{H_{k-1}(R_j) + \\lambda}\\,.$$\n",
    "The strucutral score becomes\n",
    "$$ \\mathtt{Obj}^*(R) = \\gamma J - \\frac{1}{2}\\sum_{j=1}^J \\frac{G_{k-1}^2(R_j)}{H_{k-1}(R_j) + \\lambda} \\,. $$"
   ]
  },
  {
   "cell_type": "markdown",
   "metadata": {},
   "source": [
    "Any split $R_j \\rightarrow R_{j_1}\\!\\| R_{j_2}$ yields the following gain:\n",
    "$$ \\mathtt{Gain} = \\frac{1}{2}\\Biggl(\n",
    "                          \\frac{G_{k-1}^2(R_{j_1})}{H_{k-1}(R_{j_1}) + \\lambda}\n",
    "                        + \\frac{G_{k-1}^2(R_{j_2})}{H_{k-1}(R_{j_2}) + \\lambda}\n",
    "                        - \\frac{G_{k-1}^2(R_j)}{ H_{k-1}(R_j) + \\lambda}\n",
    "                   \\Biggr) - \\gamma\\,.$$\n",
    "Note that $G_{k-1}(\\cdot)$ and $H_{k-1}(\\cdot)$ are additive by construction:\n",
    "$$G_{k-1}(R_j) = G_{k-1}(R_{j_1}) + G_{k-1}(R_{j_2}) \\,,$$\n",
    "and\n",
    "$$H_{k-1}(R_j) = H_{k-1}(R_{j_1}) + H_{k-1}(R_{j_2}) \\,.$$"
   ]
  },
  {
   "cell_type": "markdown",
   "metadata": {},
   "source": [
    "## Internal Pipeline"
   ]
  },
  {
   "cell_type": "markdown",
   "metadata": {},
   "source": [
    "The processing pipeline for one iteration of gradient boosting is as follows:\n",
    "1. invoke **BoostLearner**->UpdateOneIter() (**learner-inl.hpp**)\n",
    "    1. **IGradBooster**->Predict()\n",
    "    2. **IObjFunction**->GetGradient() (**objective-inl.hpp**)\n",
    "    3. **IGradBooster**->DoBoost()\n",
    "2. repeat the specified **number of rounds**. "
   ]
  },
  {
   "cell_type": "markdown",
   "metadata": {},
   "source": [
    "XGBoost implements two types of boosters: the **linear** and **tree** bnosters:\n",
    "* the linear booster (__\"gblinear\"__) constructs ensembles of regularized linear models;\n",
    "* the tree bostrer (__\"gbtree\"__) learns an ensemble approximator from piecewise-constant, tree-based base models."
   ]
  },
  {
   "cell_type": "markdown",
   "metadata": {},
   "source": [
    "### gbtree booster"
   ]
  },
  {
   "cell_type": "markdown",
   "metadata": {},
   "source": [
    "The **gbtree** booster ( **GBTree : public IGradBooster**) is located in **gbtree-inl.hpp**, and is responsible for constructing one or more regression trees for the provided fixed gradient statistics $(g^{k-1}_i, h^{k-1}_i)_{i=1}^n$ (**const std::vector &lt;bst_gpair &gt; &amp;**), which are kept intact during this booster's run.\n",
    "\n",
    "The main procedure, that does all the work is **GBTree**->DoBoost(), which in turn invokes **GBTree**->BoostNewTrees(). The latter workhorse grows the required number of trees, determined by the parameter **num_parallel_tree**. For **regular tree boosting** this parameter is set to $1$, but for a **boosted random forest** its value determines the size of the forest.\n",
    "\n",
    "Each regression tree in **GBTree**->BoostNewTrees() is constructed via sequential application of so called **updaters** among which the most frequqntly used are \n",
    "- grow_colmaker **ColMaker : public IUpdater** (**updater_colmaker-inl.hpp**);\n",
    "- prune **TreePruner : public IUpdater** (**updater_prune-inl.hpp**)."
   ]
  },
  {
   "cell_type": "markdown",
   "metadata": {},
   "source": [
    "The **ColMaker** updater does not take into consideration the tree size cost, and thus constructs the deepest possible binary regression tree. The **ColMaker**->Update() method performs the following steps:\n",
    "1. shares the relevant gradient data among all computational threads (**ColMaker**->InitData());\n",
    "2. initializes the queue of leaves and propagates the necessary statistics through the tree (**ColMaker**->InitNewNode());\n",
    "3. while there are leaves in queue do:\n",
    "    1. performs the **first** step of the algorithm outlined above in parallel computational threads (**ColMaker**->FindSplit());\n",
    "    2. determines in parallel the new parent regions for each $(x_i)_{i=1}^n$ in the dataset (**ColMaker**->ResetPosition());\n",
    "    3. updates the queue and propagates the necessary statistics through the tree (**ColMaker**->InitNewNode());("
   ]
  },
  {
   "cell_type": "markdown",
   "metadata": {},
   "source": [
    "The **TreePruner** updater is much simpler than the **ColMaker**. Its method **TreePruner**->Update() recursively tries to do cost-complexity pruning with respect to the split gains computed earlier. The pruning rule is whether the structural gain exceed the threshold $\\gamma$. In contrast to tree growth, pruning is not done in parallel."
   ]
  },
  {
   "cell_type": "markdown",
   "metadata": {},
   "source": [
    "#### Parameters"
   ]
  },
  {
   "cell_type": "markdown",
   "metadata": {},
   "source": [
    "The tree based booster has much richer settings, though some coincide with the linear booster:\n",
    "- **eta**, **learning_rate** ($\\eta$) -- step size shirinkage factor;\n",
    "- **gamma** ($\\gamma$) -- the complexity cost parameter, imposes minimal structural score gain for splitting a leaf of the currnt tree;\n",
    "- **max_depth** -- this parameters limits the size of the tree, by setting a hard bound on the number of tree layers;\n",
    "- **min_child_weight** -- the minimal values of the hessian statistic of a leaf to be considered a candidate for splitting;\n",
    "- **max_delta_step** -- clips the absolute value of each leaf's score, thereby making the tree growth step more conservative;\n",
    "- **lambda** ($\\lambda$) -- the weight of the $L^2$ regularization term;\n",
    "- **alpha** ($\\alpha$) -- the importance of the $L^1$ regularizer;\n",
    "- **subsample** -- the share of the training data to use for growing a tree;\n",
    "- **colsample** -- subsample ratio of features when constructing each tree.\n",
    "\n",
    "By default, the booster uses all features and all train dataset to construct each new tree. Other important default values are:\n",
    "* **max_depth** is set to 6 (in C code at least);\n",
    "* **gamma** is also set to zero, which means that the number of leaves in the tree is not penalized."
   ]
  },
  {
   "cell_type": "markdown",
   "metadata": {},
   "source": [
    "### gblinear booster"
   ]
  },
  {
   "cell_type": "markdown",
   "metadata": {},
   "source": [
    "The **gblinear** booster (** GBLinear : public IGradBooster **) is defined in **gblinear-inl.hpp**. It constructs boosted linear models for the given gradient statistics $(g^{k-1}_i, h^{k-1}_i)_{i=1}^n$ (**std::vector &lt;bst_gpair &gt; &amp;**), which though with no **const** qualifier, are also unchanged during the run.\n",
    "\n",
    "Unlike **gbtree** this booster does not rely on any auxiliary **updaters**. The main procedure, that does all the work is **GBLinear**->DoBoost(), which estimates a linear approximation."
   ]
  },
  {
   "cell_type": "markdown",
   "metadata": {},
   "source": [
    "#### Parameters"
   ]
  },
  {
   "cell_type": "markdown",
   "metadata": {},
   "source": [
    "The linear booster requires only three parameters:\n",
    "- **eta**, **learning_rate** ($\\eta$) -- step size shirinkage factor;\n",
    "- **lambda** ($\\lambda$) -- the weight of the $L^2$ regularization term in the objective function;\n",
    "- **alpha** ($\\alpha$) -- the importance of the $L^1$ regularizer in the objective function;\n",
    "- **lambda_bias** ($\\lambda_{\\texttt{bias}}$) -- a weight of $L^2$ regularization of the intercept term.\n",
    "    \n",
    "The reglarization term of the objectve function for a linear base model $f(x) = \\beta_0 + x\\beta$ is\n",
    "$$ \\Omega(f) = \\frac{\\lambda}{2} \\| \\beta \\|_2^2 + \\alpha \\| \\beta \\|_1 + \\lambda_{\\texttt{bias}} |\\beta_0|^2 \\,.$$\n",
    "\n",
    "Note, that unlike **scikit-learn**, in **XGBoost** these parameters default ot $0$ -- no regularization."
   ]
  },
  {
   "cell_type": "markdown",
   "metadata": {},
   "source": [
    "### Parameter effects\n",
    "\n",
    "When we allow the model to get more complicated (e.g. more depth), the model has better ability to fit the training data, resulting in a less biased model. However, such complicated model requires more data to fit.\n",
    "\n",
    "The first way is to directly control model complexity\n",
    "\t* max_depth, min_child_weight and gamma\n",
    "\n",
    "The second way is to add randomness to make training robust to noise\n",
    "\t* subsample, colsample_bytree\n",
    "\t* reduce stepsize eta, but needs to remember to increase num_round when you do so.\n",
    "\n",
    "\n",
    "dataset is extremely imbalanced. This can affect the training of xgboost model, and there are two ways to improve it.\n",
    "the ranking order (AUC) of your prediction: Balance the positive and negative weights, via scale_pos_weight\n",
    "\n",
    "If you care about predicting the right probability: In such a case, set parameter max_delta_step\n",
    "\n"
   ]
  },
  {
   "cell_type": "markdown",
   "metadata": {},
   "source": [
    "## References\n",
    "\n",
    "* T. Hastie, R. Tibshirani, J. Friedman, The Elements of Statistical Learning, Springer New York Inc., 2009.\n",
    "* Tianqi Chen, [Introduction to Boosted Trees](https://xgboost.readthedocs.org/en/latest/model.html)"
   ]
  },
  {
   "cell_type": "markdown",
   "metadata": {
    "collapsed": true
   },
   "source": [
    "## Appendix"
   ]
  },
  {
   "cell_type": "markdown",
   "metadata": {},
   "source": [
    "The problem\n",
    "$$ w G + \\frac{1}{2}( H+\\lambda ) w^2 + \\alpha \\bigl|w\\bigr| \\to \\min_w\\,,$$\n",
    "can be solved by the following substitution: $w = w_+ - w_-$, with $w_- \\cdot w_+ = 0$ and $w_-, w_+\\geq 0$.\n",
    "Notice that it is assumed that $H+\\lambda > 0$."
   ]
  },
  {
   "cell_type": "markdown",
   "metadata": {},
   "source": [
    "Indeed, the Lagrangian is \n",
    "\n",
    "$$ L = (  w_+ G + \\frac{1}{2}( H+\\lambda ) w_+^2 + \\alpha w_+ - \\mu_+w_+ )\n",
    "     + (- w_- G + \\frac{1}{2}( H+\\lambda ) w_-^2 + \\alpha w_- - \\mu_-w_- )\n",
    "     - \\mu w_-w_+\\,, $$\n",
    "whence the KKT conditions are\n",
    "* **Primal**: $w_-\\cdot w_+ = 0$, $w_+,w_-\\geq 0$;\n",
    "* **Dual**: $\\mu_-, \\mu_+ \\geq 0$;\n",
    "* **Complementary slackness**: $\\mu_-w_- = 0$ and $\\mu_+ w_+ = 0$;\n",
    "* **First-order**: \n",
    "    $$ G + ( H+\\lambda ) w_+ + \\alpha - \\mu_+ - \\mu w_- = 0 \\,, $$ \n",
    "    and\n",
    "    $$ -G + ( H+\\lambda ) w_- + \\alpha - \\mu_- - \\mu w_+ = 0 \\,. $$"
   ]
  },
  {
   "cell_type": "markdown",
   "metadata": {},
   "source": [
    "Multiplying the FOC by $w_+$ and $w_-$ respectively, and using $w_-\\cdot w_+ = 0$, yields\n",
    "$$ \\bigl(  G + ( H+\\lambda ) w_+ + \\alpha - \\mu_+ \\bigr) w_+ = 0 \\,, $$ \n",
    "and\n",
    "$$ \\bigl( -G + ( H+\\lambda ) w_- + \\alpha - \\mu_- \\bigr) w_- = 0 \\,. $$\n",
    "\n",
    "A pair $w_- = w_+ = 0$ is feasible and satisfied FOC, while a pair $w_+ > 0$ and $w_- > 0$ is infeasible."
   ]
  },
  {
   "cell_type": "markdown",
   "metadata": {},
   "source": [
    "Now, if $w_->0$ and $w_+=0$, then $\\mu_-=0$ and\n",
    "$$ -G + ( H + \\lambda ) w_- + \\alpha = 0 \\,,$$\n",
    "which yields\n",
    "$$ w_- = -\\frac{\\alpha - G}{ H + \\lambda } \\,,$$\n",
    "whence $ \\alpha < G $."
   ]
  },
  {
   "cell_type": "markdown",
   "metadata": {},
   "source": [
    "Conversely, if $w_+>0$ and $w_-=0$, then $\\mu_+=0$, and \n",
    "$$ G + ( H+\\lambda ) w_+ + \\alpha = 0 \\,. $$\n",
    "This implies that\n",
    "$$ w_+ = -\\frac{\\alpha + G}{H+\\lambda}\\,, $$\n",
    "which requires that $G<-\\alpha$."
   ]
  },
  {
   "cell_type": "markdown",
   "metadata": {},
   "source": [
    "However, since the inequalitites $G<-\\alpha$ and $G>\\alpha$ are incompatible:\n",
    "* $G<-\\alpha$ implies $w_+\\geq0$ and $w_-=0$ with $w_+ = (H+\\lambda)^{-1}\\max(-G -\\alpha;0)$;\n",
    "* $G>\\alpha$ implies $w_-\\geq0$ and $w_+=0$ with $w_- = (H+\\lambda)^{-1}\\max( G -\\alpha;0)$;\n",
    "* $G\\in[-\\alpha, \\alpha]$ leads to $w_+ = w_- = 0$."
   ]
  },
  {
   "cell_type": "markdown",
   "metadata": {},
   "source": [
    "Therefore the optimal $w$ in this problem is given by\n",
    "$$ w = - (H+\\lambda)^{-1}\\bigl( \\min(G + \\alpha;0) + \\max( G - \\alpha;0) \\bigr) \\,. $$"
   ]
  },
  {
   "cell_type": "code",
   "execution_count": null,
   "metadata": {
    "collapsed": true
   },
   "outputs": [],
   "source": []
  }
 ],
 "metadata": {
  "kernelspec": {
   "display_name": "Python 2",
   "language": "python",
   "name": "python2"
  },
  "language_info": {
   "codemirror_mode": {
    "name": "ipython",
    "version": 2
   },
   "file_extension": ".py",
   "mimetype": "text/x-python",
   "name": "python",
   "nbconvert_exporter": "python",
   "pygments_lexer": "ipython2",
   "version": "2.7.10"
  }
 },
 "nbformat": 4,
 "nbformat_minor": 0
}
